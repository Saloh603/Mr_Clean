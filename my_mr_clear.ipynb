{
 "cells": [
  {
   "cell_type": "code",
   "execution_count": 1,
   "id": "f0069eb0",
   "metadata": {},
   "outputs": [],
   "source": [
    "import requests\n",
    "from bs4 import BeautifulSoup\n",
    "import re\n",
    "import pandas as pd\n",
    "import numpy as np\n",
    "import matplotlib.pyplot as plt\n",
    "from collections import Counter"
   ]
  },
  {
   "cell_type": "code",
   "execution_count": 2,
   "id": "f1812ba3",
   "metadata": {},
   "outputs": [],
   "source": [
    "def get_content(article_name):\n",
    "    return BeautifulSoup(requests.get('https://en.wikipedia.org/wiki/'+article_name).text)\n",
    "# data=get_content(\"Ozone_layer\")"
   ]
  },
  {
   "cell_type": "code",
   "execution_count": 3,
   "id": "4725e470",
   "metadata": {},
   "outputs": [],
   "source": [
    "def merge_contents(data):\n",
    "    text = \"\"\n",
    "    for article in data.find_all('p'): text += \"\".join(article.text)\n",
    "    return text\n",
    "# merge_content = merge_contents(data)   \n",
    "# merge_contents(data)\n"
   ]
  },
  {
   "cell_type": "code",
   "execution_count": 4,
   "id": "d9e367cc",
   "metadata": {},
   "outputs": [],
   "source": [
    "def tokenize(content):\n",
    "    return re.sub(\"([\\(\\[]).*?([\\)\\]])\",'', content).replace(\".\",\" \").replace(\",\",\" \").replace(\"\\\\n\",\" \").replace(\"\\n\",\" \").replace(\"-\",\" \").split(\" \")\n",
    "# collection = tokenize(merge_content)"
   ]
  },
  {
   "cell_type": "code",
   "execution_count": 5,
   "id": "feaf4f1c",
   "metadata": {},
   "outputs": [],
   "source": [
    "def lower_collection(collection):\n",
    "    return [i.lower() for i in collection]\n",
    "# lower_collection=lower_collection(collection)"
   ]
  },
  {
   "cell_type": "code",
   "execution_count": 6,
   "id": "fea4baab",
   "metadata": {},
   "outputs": [],
   "source": [
    "def remove_stop_words(words, stop_words):\n",
    "    return np.array([i for i in words if i not in stop_words])\n",
    "# clearr_data=remove_stop_words(lower_collection, ['the',''])"
   ]
  },
  {
   "cell_type": "code",
   "execution_count": 7,
   "id": "8aa5168d",
   "metadata": {},
   "outputs": [],
   "source": [
    "def count_frequency(collection):\n",
    "    return Counter(np.array(collection))\n",
    "# frequency=count_frequency(clearr_data)"
   ]
  },
  {
   "cell_type": "code",
   "execution_count": 8,
   "id": "da2f6062",
   "metadata": {},
   "outputs": [],
   "source": [
    "def print_most_frequent(frequencies,n):\n",
    " \tprint(str(n) + \" the most common words:\")\n",
    " \tfor word in frequencies.most_common(n):\n",
    " \t\tprint('\"' + list(word)[0]+'\"' + \" occurs \" + str(list(word)[1]) + \" time\")\n",
    "# print_most_frequent(frequency, 10)"
   ]
  },
  {
   "cell_type": "code",
   "execution_count": 9,
   "id": "f7f28aa8",
   "metadata": {},
   "outputs": [],
   "source": [
    "def vizualizing(data): \n",
    " \tdata = data.most_common(20)\n",
    " \tlabels, values = zip(*dict(data).items())\n",
    " \tindSort = np.argsort(values)\n",
    " \tlabels,values = np.array(labels)[indSort],np.array(values)[indSort]\n",
    " \tplt.barh(labels,values)\n",
    " \tplt.title('Most common 20 words in article')\n",
    " \tplt.show()\n",
    "    \n",
    "# vizualizing(frequency)"
   ]
  },
  {
   "cell_type": "code",
   "execution_count": 10,
   "id": "bcac4b07",
   "metadata": {},
   "outputs": [],
   "source": [
    "def _main():\n",
    "    data=get_content(\"Ozone_layer\")\n",
    "    merge_content = merge_contents(data)\n",
    "    collection = tokenize(merge_content)\n",
    "    lower_=lower_collection(collection)\n",
    "    stop_words = [\"the\", \"a\", \"of\", \"to\", \"in\", \"about\",\"by\",\"ozone\",\n",
    "                  \"and\",\"is\",\"layer\",\"that\",\"\",\"are\",\"as\",\"be\",\"uv\",\"was\",\n",
    "                  \"it\",\"at\",\"have\",\"for\",\"from\",\"on\",\"with\",\"thit\",\"has\",\"this\",\"these\",\"or\"]\n",
    "    clearr_data=remove_stop_words(lower_, stop_words)\n",
    "    frequency=count_frequency(clearr_data)\n",
    "    print_most_frequent(frequency, 10)\n",
    "    return vizualizing(frequency)"
   ]
  },
  {
   "cell_type": "code",
   "execution_count": 11,
   "id": "d7f14f1b",
   "metadata": {
    "scrolled": true
   },
   "outputs": [
    {
     "name": "stdout",
     "output_type": "stream",
     "text": [
      "10 the most common words:\n",
      "\"radiation\" occurs 17 time\n",
      "\"ultraviolet\" occurs 12 time\n",
      "\"atmosphere\" occurs 12 time\n",
      "\"surface\" occurs 11 time\n",
      "\"stratosphere\" occurs 10 time\n",
      "\"depletion\" occurs 10 time\n",
      "\"which\" occurs 9 time\n",
      "\"because\" occurs 8 time\n",
      "\"earth's\" occurs 7 time\n",
      "\"skin\" occurs 7 time\n"
     ]
    },
    {
     "data": {
      "image/png": "[encoded data removed]",
      "text/plain": [
       "<Figure size 432x288 with 1 Axes>"
      ]
     },
     "metadata": {
      "needs_background": "light"
     },
     "output_type": "display_data"
    }
   ],
   "source": [
    "_main()"
   ]
  },
  {
   "cell_type": "code",
   "execution_count": null,
   "id": "b2e74e5c",
   "metadata": {},
   "outputs": [],
   "source": []
  }
 ],
 "metadata": {
  "kernelspec": {
   "display_name": "Python 3",
   "language": "python",
   "name": "python3"
  },
  "language_info": {
   "codemirror_mode": {
    "name": "ipython",
    "version": 3
   },
   "file_extension": ".py",
   "mimetype": "text/x-python",
   "name": "python",
   "nbconvert_exporter": "python",
   "pygments_lexer": "ipython3",
   "version": "3.6.7"
  }
 },
 "nbformat": 4,
 "nbformat_minor": 5
}
